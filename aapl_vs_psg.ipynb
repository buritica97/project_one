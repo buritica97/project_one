{
 "cells": [
  {
   "cell_type": "code",
   "execution_count": 3,
   "metadata": {},
   "outputs": [],
   "source": [
    "# Initial Imports\n",
    "import os\n",
    "import requests\n",
    "import pandas as pd\n",
    "import matplotlib.pyplot as plt\n",
    "import plotly.express as px\n",
    "import hvplot.pandas\n",
    "import json\n",
    "from pathlib import Path\n",
    "from dotenv import load_dotenv\n",
    "import plotly.graph_objects as go\n",
    "import numpy as np\n",
    "\n",
    "%matplotlib inline"
   ]
  },
  {
   "cell_type": "code",
   "execution_count": 4,
   "metadata": {},
   "outputs": [
    {
     "data": {
      "text/html": [
       "<div>\n",
       "<style scoped>\n",
       "    .dataframe tbody tr th:only-of-type {\n",
       "        vertical-align: middle;\n",
       "    }\n",
       "\n",
       "    .dataframe tbody tr th {\n",
       "        vertical-align: top;\n",
       "    }\n",
       "\n",
       "    .dataframe thead th {\n",
       "        text-align: right;\n",
       "    }\n",
       "</style>\n",
       "<table border=\"1\" class=\"dataframe\">\n",
       "  <thead>\n",
       "    <tr style=\"text-align: right;\">\n",
       "      <th></th>\n",
       "      <th>AAPL</th>\n",
       "    </tr>\n",
       "    <tr>\n",
       "      <th>Year</th>\n",
       "      <th></th>\n",
       "    </tr>\n",
       "  </thead>\n",
       "  <tbody>\n",
       "    <tr>\n",
       "      <th>2013-12-31</th>\n",
       "      <td>0.000000</td>\n",
       "    </tr>\n",
       "    <tr>\n",
       "      <th>2014-12-31</th>\n",
       "      <td>6.417074</td>\n",
       "    </tr>\n",
       "    <tr>\n",
       "      <th>2015-12-31</th>\n",
       "      <td>10.482838</td>\n",
       "    </tr>\n",
       "    <tr>\n",
       "      <th>2016-12-31</th>\n",
       "      <td>9.134644</td>\n",
       "    </tr>\n",
       "    <tr>\n",
       "      <th>2017-12-31</th>\n",
       "      <td>13.146932</td>\n",
       "    </tr>\n",
       "    <tr>\n",
       "      <th>2018-12-31</th>\n",
       "      <td>16.508199</td>\n",
       "    </tr>\n",
       "    <tr>\n",
       "      <th>2019-12-31</th>\n",
       "      <td>18.185577</td>\n",
       "    </tr>\n",
       "  </tbody>\n",
       "</table>\n",
       "</div>"
      ],
      "text/plain": [
       "                 AAPL\n",
       "Year                 \n",
       "2013-12-31   0.000000\n",
       "2014-12-31   6.417074\n",
       "2015-12-31  10.482838\n",
       "2016-12-31   9.134644\n",
       "2017-12-31  13.146932\n",
       "2018-12-31  16.508199\n",
       "2019-12-31  18.185577"
      ]
     },
     "execution_count": 4,
     "metadata": {},
     "output_type": "execute_result"
    }
   ],
   "source": [
    "# Import aapl CSV\n",
    "aapl_cumulative_returns_file_path = Path(\"Resources/aapl_cumulative_returns.csv\")\n",
    "aapl_cumulative_returns = pd.read_csv(aapl_cumulative_returns_file_path)\n",
    "aapl_cumulative_returns = aapl_cumulative_returns.rename(columns={\"Unnamed: 0\": \"Year\"})\n",
    "aapl_cumulative_returns = aapl_cumulative_returns.set_index(aapl_cumulative_returns['Year'])\n",
    "aapl_cumulative_returns.drop(columns = [\"Year\"], inplace = True)\n",
    "aapl_cumulative_returns"
   ]
  },
  {
   "cell_type": "code",
   "execution_count": 5,
   "metadata": {},
   "outputs": [
    {
     "data": {
      "text/html": [
       "<div>\n",
       "<style scoped>\n",
       "    .dataframe tbody tr th:only-of-type {\n",
       "        vertical-align: middle;\n",
       "    }\n",
       "\n",
       "    .dataframe tbody tr th {\n",
       "        vertical-align: top;\n",
       "    }\n",
       "\n",
       "    .dataframe thead th {\n",
       "        text-align: right;\n",
       "    }\n",
       "</style>\n",
       "<table border=\"1\" class=\"dataframe\">\n",
       "  <thead>\n",
       "    <tr style=\"text-align: right;\">\n",
       "      <th></th>\n",
       "      <th>Paris Saint-Germain</th>\n",
       "    </tr>\n",
       "    <tr>\n",
       "      <th>Year</th>\n",
       "      <th></th>\n",
       "    </tr>\n",
       "  </thead>\n",
       "  <tbody>\n",
       "    <tr>\n",
       "      <th>2013-12-31</th>\n",
       "      <td>0.000000</td>\n",
       "    </tr>\n",
       "    <tr>\n",
       "      <th>2014-12-31</th>\n",
       "      <td>3.167939</td>\n",
       "    </tr>\n",
       "    <tr>\n",
       "      <th>2015-12-31</th>\n",
       "      <td>4.839695</td>\n",
       "    </tr>\n",
       "    <tr>\n",
       "      <th>2016-12-31</th>\n",
       "      <td>6.213740</td>\n",
       "    </tr>\n",
       "    <tr>\n",
       "      <th>2017-12-31</th>\n",
       "      <td>6.419847</td>\n",
       "    </tr>\n",
       "    <tr>\n",
       "      <th>2018-12-31</th>\n",
       "      <td>7.412214</td>\n",
       "    </tr>\n",
       "    <tr>\n",
       "      <th>2019-12-31</th>\n",
       "      <td>8.320611</td>\n",
       "    </tr>\n",
       "  </tbody>\n",
       "</table>\n",
       "</div>"
      ],
      "text/plain": [
       "            Paris Saint-Germain\n",
       "Year                           \n",
       "2013-12-31             0.000000\n",
       "2014-12-31             3.167939\n",
       "2015-12-31             4.839695\n",
       "2016-12-31             6.213740\n",
       "2017-12-31             6.419847\n",
       "2018-12-31             7.412214\n",
       "2019-12-31             8.320611"
      ]
     },
     "execution_count": 5,
     "metadata": {},
     "output_type": "execute_result"
    }
   ],
   "source": [
    "# Import psg CSV\n",
    "psg_cumulative_returns_file_path = Path(\"Resources/psg_cumulative_returns.csv\")\n",
    "psg_cumulative_returns = pd.read_csv(psg_cumulative_returns_file_path, index_col = \"Year\")\n",
    "psg_cumulative_returns"
   ]
  },
  {
   "cell_type": "code",
   "execution_count": 8,
   "metadata": {},
   "outputs": [
    {
     "data": {
      "application/vnd.holoviews_exec.v0+json": "",
      "text/html": [
       "<div id='1220'>\n",
       "\n",
       "\n",
       "\n",
       "\n",
       "\n",
       "  <div class=\"bk-root\" id=\"24aa3d1c-0e6a-40a9-89d1-46ee6a22c9b3\" data-root-id=\"1220\"></div>\n",
       "</div>\n",
       "<script type=\"application/javascript\">(function(root) {\n",
       "  function embed_document(root) {\n",
       "  var docs_json = {\"d8c06588-e374-454d-a7ca-01f7eb9c0e1e\":{\"roots\":{\"references\":[{\"attributes\":{\"fill_alpha\":1,\"fill_color\":\"darkblue\",\"line_alpha\":1,\"x\":{\"field\":\"x\"},\"y\":{\"field\":\"y\"}},\"id\":\"1282\",\"type\":\"Patch\"},{\"attributes\":{\"align\":null,\"below\":[{\"id\":\"1235\"}],\"center\":[{\"id\":\"1237\"},{\"id\":\"1241\"},{\"id\":\"1276\"}],\"left\":[{\"id\":\"1238\"}],\"margin\":null,\"min_border_bottom\":10,\"min_border_left\":10,\"min_border_right\":10,\"min_border_top\":10,\"plot_height\":400,\"plot_width\":900,\"renderers\":[{\"id\":\"1266\"},{\"id\":\"1284\"}],\"sizing_mode\":\"fixed\",\"title\":{\"id\":\"1227\"},\"toolbar\":{\"id\":\"1248\"},\"x_range\":{\"id\":\"1222\"},\"x_scale\":{\"id\":\"1231\"},\"y_range\":{\"id\":\"1223\"},\"y_scale\":{\"id\":\"1233\"}},\"id\":\"1226\",\"subtype\":\"Figure\",\"type\":\"Plot\"},{\"attributes\":{\"data_source\":{\"id\":\"1260\"},\"glyph\":{\"id\":\"1263\"},\"hover_glyph\":null,\"muted_glyph\":{\"id\":\"1265\"},\"nonselection_glyph\":{\"id\":\"1264\"},\"selection_glyph\":null,\"view\":{\"id\":\"1267\"}},\"id\":\"1266\",\"type\":\"GlyphRenderer\"},{\"attributes\":{\"overlay\":{\"id\":\"1247\"}},\"id\":\"1245\",\"type\":\"BoxZoomTool\"},{\"attributes\":{},\"id\":\"1239\",\"type\":\"BasicTicker\"},{\"attributes\":{},\"id\":\"1244\",\"type\":\"WheelZoomTool\"},{\"attributes\":{},\"id\":\"1261\",\"type\":\"Selection\"},{\"attributes\":{},\"id\":\"1294\",\"type\":\"UnionRenderers\"},{\"attributes\":{\"data\":{\"x\":[\"2013-12-31\",\"2014-12-31\",\"2015-12-31\",\"2016-12-31\",\"2017-12-31\",\"2018-12-31\",\"2019-12-31\",\"2019-12-31\",\"2018-12-31\",\"2017-12-31\",\"2016-12-31\",\"2015-12-31\",\"2014-12-31\",\"2013-12-31\"],\"y\":{\"__ndarray__\":\"AAAAAAAAAAAAAAAAAAAAAAAAAAAAAAAAAAAAAAAAAAAAAAAAAAAAAAAAAAAAAAAAAAAAAAAAAACIlSgNO2qcQBZUR5JHy5lAgu1L1cWKlEBAgNMqt4uMQFfT6p0iYZBAiKtgxqgNhEAAAAAAAAAAAA==\",\"dtype\":\"float64\",\"order\":\"little\",\"shape\":[14]}},\"selected\":{\"id\":\"1261\"},\"selection_policy\":{\"id\":\"1274\"}},\"id\":\"1260\",\"type\":\"ColumnDataSource\"},{\"attributes\":{\"source\":{\"id\":\"1278\"}},\"id\":\"1285\",\"type\":\"CDSView\"},{\"attributes\":{},\"id\":\"1233\",\"type\":\"LinearScale\"},{\"attributes\":{},\"id\":\"1243\",\"type\":\"PanTool\"},{\"attributes\":{},\"id\":\"1231\",\"type\":\"CategoricalScale\"},{\"attributes\":{\"axis_label\":\"Year\",\"bounds\":\"auto\",\"formatter\":{\"id\":\"1256\"},\"major_label_orientation\":\"horizontal\",\"ticker\":{\"id\":\"1236\"}},\"id\":\"1235\",\"type\":\"CategoricalAxis\"},{\"attributes\":{\"active_drag\":\"auto\",\"active_inspect\":\"auto\",\"active_multi\":null,\"active_scroll\":\"auto\",\"active_tap\":\"auto\",\"tools\":[{\"id\":\"1224\"},{\"id\":\"1225\"},{\"id\":\"1242\"},{\"id\":\"1243\"},{\"id\":\"1244\"},{\"id\":\"1245\"},{\"id\":\"1246\"}]},\"id\":\"1248\",\"type\":\"Toolbar\"},{\"attributes\":{},\"id\":\"1236\",\"type\":\"CategoricalTicker\"},{\"attributes\":{\"callback\":null,\"renderers\":[{\"id\":\"1266\"}],\"tags\":[\"hv_created\"],\"tooltips\":[[\"Year\",\"@{Year}\"],[\"AAPL\",\"@{AAPL}\"]]},\"id\":\"1224\",\"type\":\"HoverTool\"},{\"attributes\":{\"bottom_units\":\"screen\",\"fill_alpha\":0.5,\"fill_color\":\"lightgrey\",\"left_units\":\"screen\",\"level\":\"overlay\",\"line_alpha\":1.0,\"line_color\":\"black\",\"line_dash\":[4,4],\"line_width\":2,\"right_units\":\"screen\",\"top_units\":\"screen\"},\"id\":\"1247\",\"type\":\"BoxAnnotation\"},{\"attributes\":{\"children\":[{\"id\":\"1221\"},{\"id\":\"1226\"},{\"id\":\"1387\"}],\"margin\":[0,0,0,0],\"name\":\"Row02099\",\"tags\":[\"embedded\"]},\"id\":\"1220\",\"type\":\"Row\"},{\"attributes\":{\"axis\":{\"id\":\"1238\"},\"dimension\":1,\"grid_line_color\":null,\"ticker\":null},\"id\":\"1241\",\"type\":\"Grid\"},{\"attributes\":{\"end\":2000.4134341216463,\"reset_end\":2000.4134341216463,\"reset_start\":0.0,\"tags\":[[[\"AAPL\",\"AAPL\",null]]]},\"id\":\"1223\",\"type\":\"Range1d\"},{\"attributes\":{\"margin\":[5,5,5,5],\"name\":\"HSpacer02103\",\"sizing_mode\":\"stretch_width\"},\"id\":\"1221\",\"type\":\"Spacer\"},{\"attributes\":{\"axis\":{\"id\":\"1235\"},\"grid_line_color\":null,\"ticker\":null},\"id\":\"1237\",\"type\":\"Grid\"},{\"attributes\":{\"fill_alpha\":0.2,\"fill_color\":\"crimson\",\"line_alpha\":0.2,\"x\":{\"field\":\"x\"},\"y\":{\"field\":\"y\"}},\"id\":\"1265\",\"type\":\"Patch\"},{\"attributes\":{\"label\":{\"value\":\"Paris Saint-Germain\"},\"renderers\":[{\"id\":\"1284\"}]},\"id\":\"1296\",\"type\":\"LegendItem\"},{\"attributes\":{\"data\":{\"x\":[\"2013-12-31\",\"2014-12-31\",\"2015-12-31\",\"2016-12-31\",\"2017-12-31\",\"2018-12-31\",\"2019-12-31\",\"2019-12-31\",\"2018-12-31\",\"2017-12-31\",\"2016-12-31\",\"2015-12-31\",\"2014-12-31\",\"2013-12-31\"],\"y\":{\"__ndarray__\":\"AAAAAAAAAAAAAAAAAAAAAAAAAAAAAAAAAAAAAAAAAAAAAAAAAAAAAAAAAAAAAAAAAAAAAAAAAAApeZYRfQCKQDZ3wV/FKYdAt2Gau+APhEAcprkL/mqDQNeGae6CP35AK05IybPMc0AAAAAAAAAAAA==\",\"dtype\":\"float64\",\"order\":\"little\",\"shape\":[14]}},\"selected\":{\"id\":\"1279\"},\"selection_policy\":{\"id\":\"1294\"}},\"id\":\"1278\",\"type\":\"ColumnDataSource\"},{\"attributes\":{\"factors\":[\"2013-12-31\",\"2014-12-31\",\"2015-12-31\",\"2016-12-31\",\"2017-12-31\",\"2018-12-31\",\"2019-12-31\"],\"tags\":[[[\"Year\",\"Year\",null]]]},\"id\":\"1222\",\"type\":\"FactorRange\"},{\"attributes\":{\"fill_alpha\":0.2,\"fill_color\":\"darkblue\",\"line_alpha\":0.2,\"x\":{\"field\":\"x\"},\"y\":{\"field\":\"y\"}},\"id\":\"1283\",\"type\":\"Patch\"},{\"attributes\":{},\"id\":\"1256\",\"type\":\"CategoricalTickFormatter\"},{\"attributes\":{},\"id\":\"1246\",\"type\":\"ResetTool\"},{\"attributes\":{\"data_source\":{\"id\":\"1278\"},\"glyph\":{\"id\":\"1281\"},\"hover_glyph\":null,\"muted_glyph\":{\"id\":\"1283\"},\"nonselection_glyph\":{\"id\":\"1282\"},\"selection_glyph\":null,\"view\":{\"id\":\"1285\"}},\"id\":\"1284\",\"type\":\"GlyphRenderer\"},{\"attributes\":{},\"id\":\"1274\",\"type\":\"UnionRenderers\"},{\"attributes\":{\"margin\":[5,5,5,5],\"name\":\"HSpacer02104\",\"sizing_mode\":\"stretch_width\"},\"id\":\"1387\",\"type\":\"Spacer\"},{\"attributes\":{\"label\":{\"value\":\"AAPL\"},\"renderers\":[{\"id\":\"1266\"}]},\"id\":\"1277\",\"type\":\"LegendItem\"},{\"attributes\":{},\"id\":\"1279\",\"type\":\"Selection\"},{\"attributes\":{},\"id\":\"1258\",\"type\":\"BasicTickFormatter\"},{\"attributes\":{\"click_policy\":\"mute\",\"items\":[{\"id\":\"1277\"},{\"id\":\"1296\"}]},\"id\":\"1276\",\"type\":\"Legend\"},{\"attributes\":{\"fill_color\":\"darkblue\",\"x\":{\"field\":\"x\"},\"y\":{\"field\":\"y\"}},\"id\":\"1281\",\"type\":\"Patch\"},{\"attributes\":{\"text\":\"Should the Emir of Qatar have Purchased Paris Saint-Germain (or AAPL stock and season tickets)\",\"text_color\":{\"value\":\"black\"},\"text_font_size\":{\"value\":\"12pt\"}},\"id\":\"1227\",\"type\":\"Title\"},{\"attributes\":{\"fill_alpha\":1,\"fill_color\":\"crimson\",\"line_alpha\":1,\"x\":{\"field\":\"x\"},\"y\":{\"field\":\"y\"}},\"id\":\"1264\",\"type\":\"Patch\"},{\"attributes\":{\"axis_label\":\"Return on Investment (in millions)\",\"bounds\":\"auto\",\"formatter\":{\"id\":\"1258\"},\"major_label_orientation\":\"horizontal\",\"ticker\":{\"id\":\"1239\"}},\"id\":\"1238\",\"type\":\"LinearAxis\"},{\"attributes\":{\"fill_color\":\"crimson\",\"x\":{\"field\":\"x\"},\"y\":{\"field\":\"y\"}},\"id\":\"1263\",\"type\":\"Patch\"},{\"attributes\":{\"source\":{\"id\":\"1260\"}},\"id\":\"1267\",\"type\":\"CDSView\"},{\"attributes\":{\"callback\":null,\"renderers\":[{\"id\":\"1284\"}],\"tags\":[\"hv_created\"],\"tooltips\":[[\"Year\",\"@{Year}\"],[\"Paris Saint-Germain\",\"@{Paris_Saint_hyphen_minus_Germain}\"]]},\"id\":\"1225\",\"type\":\"HoverTool\"},{\"attributes\":{},\"id\":\"1242\",\"type\":\"SaveTool\"}],\"root_ids\":[\"1220\"]},\"title\":\"Bokeh Application\",\"version\":\"2.1.1\"}};\n",
       "  var render_items = [{\"docid\":\"d8c06588-e374-454d-a7ca-01f7eb9c0e1e\",\"root_ids\":[\"1220\"],\"roots\":{\"1220\":\"24aa3d1c-0e6a-40a9-89d1-46ee6a22c9b3\"}}];\n",
       "  root.Bokeh.embed.embed_items_notebook(docs_json, render_items);\n",
       "  }\n",
       "if (root.Bokeh !== undefined) {\n",
       "    embed_document(root);\n",
       "  } else {\n",
       "    var attempts = 0;\n",
       "    var timer = setInterval(function(root) {\n",
       "      if (root.Bokeh !== undefined) {\n",
       "        clearInterval(timer);\n",
       "        embed_document(root);\n",
       "      } else if (document.readyState == \"complete\") {\n",
       "        attempts++;\n",
       "        if (attempts > 100) {\n",
       "          clearInterval(timer);\n",
       "          console.log(\"Bokeh: ERROR: Unable to run BokehJS code because BokehJS library is missing\");\n",
       "        }\n",
       "      }\n",
       "    }, 10, root)\n",
       "  }\n",
       "})(window);</script>"
      ],
      "text/plain": [
       ":Overlay\n",
       "   .Area.AAPL                             :Area   [Year]   (AAPL)\n",
       "   .Area.Paris_Saint_hyphen_minus_Germain :Area   [Year]   (Paris Saint-Germain)"
      ]
     },
     "execution_count": 8,
     "metadata": {
      "application/vnd.holoviews_exec.v0+json": {
       "id": "1220"
      }
     },
     "output_type": "execute_result"
    }
   ],
   "source": [
    "# set investment amounts\n",
    "aapl_initial_investment = 100\n",
    "psg_initial_investment = 100\n",
    "(aapl_initial_investment * aapl_cumulative_returns).hvplot.area(label=\"AAPL\", x=\"Year\", xlabel=\"Year\", \n",
    "ylabel=\"Return on Investment (in millions)\", height = 400, width = 900, title = \"Should the Emir of Qatar have Purchased Paris Saint-Germain (or AAPL stock and season tickets)\", color = \"crimson\") * (psg_initial_investment * psg_cumulative_returns).hvplot.area(label=\"Paris Saint-Germain\", x=\"Year\", xlabel=\"Year\", \n",
    "ylabel=\"Value (in millions)\", height = 400, width = 900, title = \"Should the Emir of Qatar have Purchased Paris Saint-Germain (or AAPL stock and season tickets)\", color = \"darkblue\")"
   ]
  },
  {
   "cell_type": "code",
   "execution_count": null,
   "metadata": {},
   "outputs": [],
   "source": []
  }
 ],
 "metadata": {
  "kernelspec": {
   "display_name": "Python [conda env:pyvizenv] *",
   "language": "python",
   "name": "conda-env-pyvizenv-py"
  },
  "language_info": {
   "codemirror_mode": {
    "name": "ipython",
    "version": 3
   },
   "file_extension": ".py",
   "mimetype": "text/x-python",
   "name": "python",
   "nbconvert_exporter": "python",
   "pygments_lexer": "ipython3",
   "version": "3.7.7"
  }
 },
 "nbformat": 4,
 "nbformat_minor": 4
}
